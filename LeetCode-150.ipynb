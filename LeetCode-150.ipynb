{
 "cells": [
  {
   "cell_type": "markdown",
   "metadata": {},
   "source": [
    "# Maths"
   ]
  },
  {
   "cell_type": "markdown",
   "metadata": {},
   "source": [
    "## 69. Sqrt(x)"
   ]
  },
  {
   "cell_type": "markdown",
   "metadata": {},
   "source": [
    "### Mathematical Logic Behind the Binary Search Approach\n",
    "\n",
    "### 1. **Square Function is Monotonically Increasing**\n",
    "For any non-negative integers \\( n_1 \\) and \\( n_2 \\), if \\( n_1 < n_2 \\), then \\( n_1^2 < n_2^2 \\). This means that as you increase \\( n \\), the value of \\( n^2 \\) strictly increases.\n",
    "\n",
    "**Implication:** This property allows us to use binary search. If \\( mid^2 \\) (where `mid` is the middle point) is less than \\( x \\), we know that the square root must be greater than `mid`. If \\( mid^2 \\) is greater than \\( x \\), we know the square root must be smaller. \n",
    "\n",
    "Thus, we can adjust our search range (moving left or right) based on the comparison between \\( mid^2 \\) and \\( x \\).\n",
    "\n",
    "### 2. **Binary Search Range Narrowing**\n",
    "Since the square of a number grows rapidly, we don’t need to check every number between 0 and \\( x \\). Instead, we can **halve the search space** each time we check a mid-point (i.e., binary search logic).\n",
    "\n",
    "Binary search works by repeatedly dividing the search interval in half:\n",
    "- Start with an initial range from 0 to \\( x \\).\n",
    "- At each step, compute the middle of the current range and compare its square with \\( x \\).\n",
    "- Based on whether the square is too small or too large, adjust the search range by eliminating half of the current range.\n",
    "\n",
    "### 3. **Range Reduction Based on Square Property**\n",
    "We know that:\n",
    "- If \\( mid^2 < x \\), then the square root of \\( x \\) lies somewhere **to the right of mid** because increasing the number would increase the square. So, we set `left = mid + 1`.\n",
    "  \n",
    "- If \\( mid^2 > x \\), then the square root lies **to the left of mid**, because decreasing the number would decrease the square. So, we set `right = mid - 1`.\n",
    "\n",
    "The idea is to continuously \"squeeze\" the range between `left` and `right` until we converge on the correct integer value.\n",
    "\n",
    "### 4. **Handling the Remainder**\n",
    "When you try to compute the square root of numbers that aren’t perfect squares (like \\( x = 8 \\)), the algorithm finds the largest integer \\( n \\) such that \\( n^2 \\leq x \\). For non-perfect squares, this results in \"rounding down\" because the square root lies between two integers, and binary search converges on the lower bound.\n",
    "\n",
    "### 5. **Boundaries for Search Space**\n",
    "- The **smallest possible value** for the square root of \\( x \\) is **0**, because \\( 0^2 = 0 \\).\n",
    "- The **largest possible value** for the square root is \\( x \\), because \\( x^2 \\geq x \\) for all non-negative integers \\( x \\).\n",
    "\n",
    "Thus, the initial search range for binary search is from 0 to \\( x \\). In fact, for optimization, we can limit the right boundary to \\( x // 2 \\) because the square root of a number \\( x > 4 \\) is always less than or equal to \\( x // 2 \\).\n",
    "\n",
    "### 6. **Why Binary Search is Efficient**\n",
    "Binary search reduces the size of the search range by half at each step. The number of steps needed is proportional to the logarithm of \\( x \\), i.e., \\( O(\\log x) \\). This is much faster than a linear search, which would have to check every integer from 0 to \\( x \\).\n",
    "\n",
    "### Summary of Mathematical Concepts:\n",
    "1. **Monotonicity of the square function**: As \\( n \\) increases, \\( n^2 \\) also increases, allowing binary search to work.\n",
    "2. **Halving the search space**: Binary search narrows down the possible range of square root values efficiently by halving the search space based on comparisons.\n",
    "3. **Upper bound**: You only need to search up to \\( x \\) (or better, \\( x // 2 \\)).\n",
    "4. **Finding the largest integer whose square is \\( \\leq x \\)**: For non-perfect squares, binary search converges to the closest integer solution by rounding down.\n",
    "\n",
    "By exploiting the properties of the square function and using binary search, this method efficiently finds the integer square root of a non-negative integer without directly computing square roots or using floating-point arithmetic."
   ]
  },
  {
   "cell_type": "code",
   "execution_count": 22,
   "metadata": {},
   "outputs": [
    {
     "data": {
      "text/plain": [
       "3"
      ]
     },
     "execution_count": 22,
     "metadata": {},
     "output_type": "execute_result"
    }
   ],
   "source": [
    "def mySqrt(x):\n",
    "    if x == 0 or x == 1:\n",
    "        return x\n",
    "    \n",
    "    left, right = 0, x\n",
    "    while left <= right:\n",
    "        mid = (left + right) // 2   \n",
    "        # this condition is only true for 4 why is this even here?\n",
    "        if mid * mid == x:\n",
    "            return mid\n",
    "        elif mid * mid < x:\n",
    "            left = mid + 1\n",
    "            result = mid  # track the closest integer whose \n",
    "            # square is <= x\n",
    "        else:\n",
    "            right = mid - 1\n",
    "    \n",
    "    return result\n",
    "    \n",
    "# mySqrt(9) # or any number"
   ]
  },
  {
   "cell_type": "markdown",
   "metadata": {},
   "source": [
    "# 1D DP"
   ]
  },
  {
   "cell_type": "markdown",
   "metadata": {},
   "source": [
    "## 70. Climbing Stairs"
   ]
  },
  {
   "cell_type": "markdown",
   "metadata": {},
   "source": [
    "The problem of **Climbing Stairs** can be solved using a dynamic programming approach. This problem is essentially a variation of the **Fibonacci sequence**, where the number of distinct ways to reach the top is the sum of ways to reach the previous step before that."
   ]
  },
  {
   "cell_type": "markdown",
   "metadata": {},
   "source": [
    "### Approach 1: Recursion (Inefficient)"
   ]
  },
  {
   "cell_type": "code",
   "execution_count": 55,
   "metadata": {},
   "outputs": [
    {
     "data": {
      "text/plain": [
       "2"
      ]
     },
     "execution_count": 55,
     "metadata": {},
     "output_type": "execute_result"
    }
   ],
   "source": [
    "def climbStairs1(n):\n",
    "    if n <= 2:\n",
    "        return n\n",
    "    return climbStairs1(n-1) + climbStairs1(n-2)\n",
    "\n",
    "# climbStairs1(2) "
   ]
  },
  {
   "cell_type": "markdown",
   "metadata": {},
   "source": [
    "### Approach 2: Using an Array (Bottom-Up DP)"
   ]
  },
  {
   "cell_type": "code",
   "execution_count": 42,
   "metadata": {},
   "outputs": [],
   "source": [
    "def climbStairs(n):\n",
    "    \"\"\"\n",
    "    :type n: int\n",
    "    :rtype: int\n",
    "    \"\"\"\n",
    "    if n == 1 or n==2 or n==3:\n",
    "        return n    \n",
    "    #Create an array of size n+1 containing 0s \n",
    "    dp = [0] * (n + 1)\n",
    "    dp[1] = 1  # One way to reach step 1\n",
    "    dp[2] = 2  # Two ways to reach step 2\n",
    "\n",
    "    # Fill the dp array\n",
    "    for i in range(3, n + 1):\n",
    "        dp[i] = dp[i - 1] + dp[i - 2]\n",
    "\n",
    "    return dp[n]\n",
    "\n",
    "\n",
    "# climbStairs(4) # Output: 5"
   ]
  },
  {
   "cell_type": "markdown",
   "metadata": {},
   "source": [
    "### Approach 2.2: Using an Array (Bottom-Up DP) - Optimized Space (Two Variables)"
   ]
  },
  {
   "cell_type": "code",
   "execution_count": 56,
   "metadata": {},
   "outputs": [],
   "source": [
    "def climbStairs(self, n):\n",
    "    \"\"\"\n",
    "    :type n: int\n",
    "    :rtype: int\n",
    "    \"\"\"\n",
    "    if n == 1:\n",
    "        return 1\n",
    "\n",
    "    # Initialize variables to store the last two results\n",
    "    prev1, prev2 = 2, 1\n",
    "\n",
    "    # Compute the ways to reach each step iteratively\n",
    "    for i in range(3, n + 1):\n",
    "        current = prev1 + prev2  # The number of ways to reach the current step\n",
    "        prev2 = prev1  # Update the second previous step\n",
    "        prev1 = current  # Update the previous step\n",
    "\n",
    "    return prev1  # prev1 contains the result for n"
   ]
  }
 ],
 "metadata": {
  "kernelspec": {
   "display_name": "Python 3",
   "language": "python",
   "name": "python3"
  },
  "language_info": {
   "codemirror_mode": {
    "name": "ipython",
    "version": 3
   },
   "file_extension": ".py",
   "mimetype": "text/x-python",
   "name": "python",
   "nbconvert_exporter": "python",
   "pygments_lexer": "ipython3",
   "version": "3.13.0"
  }
 },
 "nbformat": 4,
 "nbformat_minor": 2
}
